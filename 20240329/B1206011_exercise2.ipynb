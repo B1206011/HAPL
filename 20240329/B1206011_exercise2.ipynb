{
  "nbformat": 4,
  "nbformat_minor": 0,
  "metadata": {
    "colab": {
      "provenance": []
    },
    "kernelspec": {
      "name": "python3",
      "display_name": "Python 3"
    },
    "language_info": {
      "name": "python"
    }
  },
  "cells": [
    {
      "cell_type": "code",
      "source": [
        "a=dict(姓名='賴宏瑋',性別='男',作業分數=[80,95,100,90])\n",
        "b=a.setdefault('學號','M1129020')\n",
        "a['作業分數'][1]=100\n",
        "del a['作業分數'][0]\n",
        "print(a)\n",
        "print((a['作業分數'][0]+a['作業分數'][1]+a['作業分數'][2])/3)"
      ],
      "metadata": {
        "colab": {
          "base_uri": "https://localhost:8080/"
        },
        "id": "hJP96-WFv-FM",
        "outputId": "8fe9fce9-c1d1-4a0e-c757-8d925b4d6dbd"
      },
      "execution_count": 8,
      "outputs": [
        {
          "output_type": "stream",
          "name": "stdout",
          "text": [
            "{'姓名': '賴宏瑋', '性別': '男', '作業分數': [100, 100, 90], '學號': 'M1129020'}\n",
            "96.66666666666667\n"
          ]
        }
      ]
    }
  ]
}