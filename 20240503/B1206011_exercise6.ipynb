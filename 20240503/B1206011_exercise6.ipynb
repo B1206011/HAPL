{
  "nbformat": 4,
  "nbformat_minor": 0,
  "metadata": {
    "colab": {
      "provenance": []
    },
    "kernelspec": {
      "name": "python3",
      "display_name": "Python 3"
    },
    "language_info": {
      "name": "python"
    }
  },
  "cells": [
    {
      "cell_type": "code",
      "execution_count": 9,
      "metadata": {
        "id": "EYVCs4NS79fz",
        "colab": {
          "base_uri": "https://localhost:8080/"
        },
        "outputId": "31f3395d-2ccc-4fc0-9d66-be7a89fa1dc2"
      },
      "outputs": [
        {
          "output_type": "stream",
          "name": "stdout",
          "text": [
            "請輸入聖誕樹的高度(至少7層):8\n",
            "       *\n",
            "      ***\n",
            "     *****\n",
            "    *******\n",
            "   *********\n",
            "  ***********\n",
            " *************\n",
            "***************\n",
            "      ***\n",
            "      ***\n",
            "      ***\n",
            "      ***\n",
            "      ***\n"
          ]
        }
      ],
      "source": [
        "def christmas_tree(h):\n",
        " for i in range(1,h+1):\n",
        "  print(\" \"*(h-i)+\"*\"*(2*i-1))\n",
        " for i in range(5):\n",
        "  print(\" \"*(h-2)+\"***\")\n",
        "tree_h=int(input(\"請輸入聖誕樹的高度(至少7層):\"))\n",
        "christmas_tree(tree_h)"
      ]
    },
    {
      "cell_type": "code",
      "source": [
        "try:\n",
        "  a_cm=float(input(\"請輸入您的身高（cm）：\"))\n",
        "  b=float(input(\"請輸入您的體重（kg）：\"))\n",
        "\n",
        "  a_m=a_cm/100\n",
        "  bmi=b/a_m**2\n",
        "  print(f\"BMI：{bmi}\")\n",
        "\n",
        "  if bmi<18.5 :\n",
        "    result='體位:過輕'\n",
        "  elif 18.5<=bmi<24 :\n",
        "    result='體位:適中'\n",
        "  elif 24<=bmi<27 :\n",
        "    result='體位:過重'\n",
        "  else:\n",
        "    result='體位:肥胖'\n",
        "except:\n",
        " print(\"輸入內容錯誤\")"
      ],
      "metadata": {
        "colab": {
          "base_uri": "https://localhost:8080/"
        },
        "id": "nb2qTuPNAplz",
        "outputId": "bdb01f4a-1a4f-4b3b-a349-c5202b8ceddc"
      },
      "execution_count": 16,
      "outputs": [
        {
          "output_type": "stream",
          "name": "stdout",
          "text": [
            "請輸入您的身高（cm）：180\n",
            "請輸入您的體重（kg）：l\n",
            "輸入內容錯誤\n"
          ]
        }
      ]
    }
  ]
}