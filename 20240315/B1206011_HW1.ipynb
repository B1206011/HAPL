{
  "nbformat": 4,
  "nbformat_minor": 0,
  "metadata": {
    "colab": {
      "provenance": []
    },
    "kernelspec": {
      "name": "python3",
      "display_name": "Python 3"
    },
    "language_info": {
      "name": "python"
    }
  },
  "cells": [
    {
      "cell_type": "code",
      "execution_count": null,
      "metadata": {
        "colab": {
          "base_uri": "https://localhost:8080/"
        },
        "id": "To7EB9hF4jYv",
        "outputId": "dc117d4b-3d37-40f5-ccdc-f15e3ee05eb7"
      },
      "outputs": [
        {
          "output_type": "stream",
          "name": "stdout",
          "text": [
            "I'm a student\n"
          ]
        }
      ],
      "source": [
        "print(\"I'm a student\")"
      ]
    },
    {
      "cell_type": "code",
      "source": [
        "x1=float(input(\"請輸入點A的x座標:\"))\n",
        "y1=float(input(\"請輸入點A的y座標:\"))\n",
        "x2=float(input(\"請輸入點A的x座標:\"))\n",
        "y2=float(input(\"請輸入點A的y座標:\"))\n",
        "距離= ((x2-x1)**2+(y2-y1)**2)**0.5\n",
        "print(f\"點A和點B之間的距離為：{距離}\")\n"
      ],
      "metadata": {
        "colab": {
          "base_uri": "https://localhost:8080/"
        },
        "id": "EpOebOlt4znW",
        "outputId": "c1453c42-9d9d-4ff9-e38d-5efff55187cd"
      },
      "execution_count": 14,
      "outputs": [
        {
          "output_type": "stream",
          "name": "stdout",
          "text": [
            "請輸入點A的x座標:1\n",
            "請輸入點A的y座標:2\n",
            "請輸入點A的x座標:3\n",
            "請輸入點A的y座標:4\n",
            "點A和點B之間的距離為：2.8284271247461903\n"
          ]
        }
      ]
    },
    {
      "cell_type": "code",
      "source": [
        "height_cm=float(input(\"請輸入您的身高（cm）：\"))\n",
        "weight=float(input(\"請輸入您的體重（kg）：\"))\n",
        "\n",
        "height_m=height_cm/100\n",
        "bmi=weight/height_m**2\n",
        "print(f\"您的BMI為：{bmi}\")\n"
      ],
      "metadata": {
        "colab": {
          "base_uri": "https://localhost:8080/"
        },
        "id": "b7HNdXeBDxz3",
        "outputId": "1f1087db-f72e-411c-cae7-fcd8579a302a"
      },
      "execution_count": 4,
      "outputs": [
        {
          "output_type": "stream",
          "name": "stdout",
          "text": [
            "請輸入您的身高（cm）：163\n",
            "請輸入您的體重（kg）：60\n",
            "您的BMI為：22.582709172343712\n"
          ]
        }
      ]
    }
  ]
}