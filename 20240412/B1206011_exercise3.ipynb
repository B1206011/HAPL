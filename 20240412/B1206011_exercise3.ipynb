{
  "nbformat": 4,
  "nbformat_minor": 0,
  "metadata": {
    "colab": {
      "provenance": []
    },
    "kernelspec": {
      "name": "python3",
      "display_name": "Python 3"
    },
    "language_info": {
      "name": "python"
    }
  },
  "cells": [
    {
      "cell_type": "code",
      "execution_count": 23,
      "metadata": {
        "colab": {
          "base_uri": "https://localhost:8080/"
        },
        "id": "KjhhfkTS0rs-",
        "outputId": "18428d94-fbf3-4118-d34f-a9827bcac749"
      },
      "outputs": [
        {
          "output_type": "stream",
          "name": "stdout",
          "text": [
            "請輸入您的身高（cm）：163\n",
            "請輸入您的體重（kg）：60\n",
            "BMI：22.582709172343712\n",
            "體位:適中\n"
          ]
        }
      ],
      "source": [
        "a_cm=float(input(\"請輸入您的身高（cm）：\"))\n",
        "b=float(input(\"請輸入您的體重（kg）：\"))\n",
        "\n",
        "a_m=a_cm/100\n",
        "bmi=b/a_m**2\n",
        "print(f\"BMI：{bmi}\")\n",
        "\n",
        "if bmi<18.5 :\n",
        "  print('體位:過輕')\n",
        "elif 18.5<=bmi<24 :\n",
        "  print('體位:適中')\n",
        "elif 24<=bmi<27 :\n",
        "  print('體位:過重')\n",
        "else:\n",
        "  print('體位:肥胖')"
      ]
    },
    {
      "cell_type": "code",
      "source": [
        "a=float(input(\"請輸入第一個數字：\"))\n",
        "b= input(\"請輸入運算符號(+, -, *, /):\")\n",
        "c=float(input(\"請輸入第二個數字：\"))\n",
        "if b=='+' :\n",
        "  d =a+c\n",
        "elif b=='-' :\n",
        "  d =a-c\n",
        "elif b=='*' :\n",
        "  d =a*c\n",
        "elif b=='/' :\n",
        "  d =a/c\n",
        "else:\n",
        "  d =無效\n",
        "print(f\"答案：{d}\")"
      ],
      "metadata": {
        "colab": {
          "base_uri": "https://localhost:8080/"
        },
        "id": "Yhs7eVlk1_r6",
        "outputId": "ed5b74b3-a4de-4b9c-f078-a3b8d9857928"
      },
      "execution_count": 21,
      "outputs": [
        {
          "output_type": "stream",
          "name": "stdout",
          "text": [
            "請輸入第一個數字：2\n",
            "請輸入運算符號(+, -, *, /):*\n",
            "請輸入第二個數字：3\n",
            "答案：6.0\n"
          ]
        }
      ]
    }
  ]
}