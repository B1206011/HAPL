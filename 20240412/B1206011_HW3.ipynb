{
  "nbformat": 4,
  "nbformat_minor": 0,
  "metadata": {
    "colab": {
      "provenance": []
    },
    "kernelspec": {
      "name": "python3",
      "display_name": "Python 3"
    },
    "language_info": {
      "name": "python"
    }
  },
  "cells": [
    {
      "cell_type": "code",
      "execution_count": 4,
      "metadata": {
        "colab": {
          "base_uri": "https://localhost:8080/"
        },
        "id": "rn_I-Bnp_chN",
        "outputId": "c15e0d47-cf2e-43d2-89fb-25d1509d3435"
      },
      "outputs": [
        {
          "output_type": "stream",
          "name": "stdout",
          "text": [
            "請輸入年分：1988\n",
            "此年是閏年\n"
          ]
        }
      ],
      "source": [
        "a=float(input(\"請輸入年分：\"))\n",
        "\n",
        "if a<=1582 and a%4==0 :\n",
        "  print(f'此年是閏年')\n",
        "elif a%4==0 and a%100!=0 :\n",
        "  print(f'此年是閏年')\n",
        "elif a%400==0 :\n",
        "  print(f'此年是閏年')\n",
        "else :\n",
        "  print(f'此年是平年')\n"
      ]
    }
  ]
}